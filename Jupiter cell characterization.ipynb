{
 "cells": [
  {
   "cell_type": "markdown",
   "metadata": {},
   "source": [
    "# Cell characterization histograms"
   ]
  },
  {
   "cell_type": "markdown",
   "metadata": {},
   "source": [
    "### Create a histogram from quantified cell features for a new cell line in the lab. This reads a CSV file, removes data we are not interested in, and then generates the histograms."
   ]
  },
  {
   "cell_type": "code",
   "execution_count": 1,
   "metadata": {},
   "outputs": [
    {
     "data": {
      "image/png": "[encoded data removed]",
      "text/plain": [
       "<Figure size 432x288 with 6 Axes>"
      ]
     },
     "metadata": {
      "needs_background": "light"
     },
     "output_type": "display_data"
    }
   ],
   "source": [
    "# Open pandas to read data and matplotlib to do the graphing\n",
    "\n",
    "import matplotlib.pyplot as plt\n",
    "import pandas as pd\n",
    "\n",
    "# Read data files. Adjust as needed. Make sure they are in the same folder as this script.\n",
    "data1 = pd.read_csv(\"Cell_set_1.csv\")\n",
    "data2 = pd.read_csv(\"Cell_set_2.csv\")\n",
    "data3 = pd.read_csv(\"Cell_set_3.csv\")\n",
    "\n",
    "# Combine all the files. You may need to expand if you have more files.\n",
    "finaldata = pd.concat([data1, data2, data3])\n",
    "\n",
    "# Drop columns that we do not need.\n",
    "finaldata.drop('Image number', axis=1,inplace=True)\n",
    "finaldata.drop('Data point', axis=1,inplace=True)\n",
    "finaldata.drop('Angle', axis=1,inplace=True)        \n",
    "finaldata.drop('Round', axis=1,inplace=True)\n",
    "finaldata.drop('Solidity', axis=1,inplace=True,)\n",
    "\n",
    "# Create histograms.\n",
    "finaldata.hist(bins=20)\n",
    "plt.tight_layout()\n",
    "plt.show()\n"
   ]
  },
  {
   "cell_type": "code",
   "execution_count": 2,
   "metadata": {},
   "outputs": [
    {
     "name": "stdout",
     "output_type": "stream",
     "text": [
      "Mean area: 2034.95\n",
      "Mean perimeter: 402.87\n",
      "Mean major axis: 81.84\n",
      "Mean minor axis: 31.95\n",
      "Mean circularity: 0.19\n",
      "Mean aspect ratio: 3.02\n"
     ]
    }
   ],
   "source": [
    "# Calculate the average and standard deviation\n",
    "meanarea = finaldata['Area'].mean()\n",
    "#stdarea = finaldata['Area'].std()\n",
    "\n",
    "meanperim = finaldata['Perim'].mean()\n",
    "#stdperim = finaldata['Perim'].std()\n",
    "\n",
    "meanmajor = finaldata['Major'].mean()\n",
    "#stdmajor = finaldata['Major'].std()\n",
    "\n",
    "meanminor = finaldata['Minor'].mean()\n",
    "#stdminor = finaldata['Minor'].std()\n",
    "\n",
    "meancirc = finaldata['Circularity'].mean()\n",
    "#stdcirc = finaldata['Circularity'].std()\n",
    "\n",
    "meanar = finaldata['AR'].mean()\n",
    "#stdar = finaldata['AR'].std()\n",
    "\n",
    "\n",
    "#Output the average data to two significant figures\n",
    "print ('Mean area: ' + \"{:.2f}\".format(meanarea))\n",
    "print ('Mean perimeter: ' + \"{:.2f}\".format(meanperim))\n",
    "print ('Mean major axis: ' + \"{:.2f}\".format(meanmajor))\n",
    "print ('Mean minor axis: ' + \"{:.2f}\".format(meanminor))\n",
    "print ('Mean circularity: ' + \"{:.2f}\".format(meancirc))\n",
    "print ('Mean aspect ratio: ' + \"{:.2f}\".format(meanar))\n",
    "\n"
   ]
  },
  {
   "cell_type": "code",
   "execution_count": null,
   "metadata": {},
   "outputs": [],
   "source": []
  }
 ],
 "metadata": {
  "kernelspec": {
   "display_name": "Python 3",
   "language": "python",
   "name": "python3"
  },
  "language_info": {
   "codemirror_mode": {
    "name": "ipython",
    "version": 3
   },
   "file_extension": ".py",
   "mimetype": "text/x-python",
   "name": "python",
   "nbconvert_exporter": "python",
   "pygments_lexer": "ipython3",
   "version": "3.8.3"
  }
 },
 "nbformat": 4,
 "nbformat_minor": 4
}
